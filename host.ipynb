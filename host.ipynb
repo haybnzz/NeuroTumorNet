{
 "cells": [
  {
   "cell_type": "code",
   "execution_count": null,
   "metadata": {},
   "outputs": [],
   "source": [
    "# Cell 1: Download the model (user will fill this in)\n",
    "# !wget \"https://huggingface.co/haydenbanz/NeuroTumorNet/resolve/main/brain_tumor_model.h5?download=true\" -O brain_tumor_model.h5"
   ]
  },
  {
   "cell_type": "code",
   "execution_count": null,
   "metadata": {},
   "outputs": [],
   "source": [
    "# Cell 2: Import libraries and define the file upload widget\n",
    "import ipywidgets as widgets\n",
    "from IPython.display import display\n",
    "\n",
    "uploader = widgets.FileUpload(\n",
    "    accept='image/*',\n",
    "    multiple=False\n",
    ")\n",
    "\n",
    "display(uploader)"
   ]
  },
  {
   "cell_type": "code",
   "execution_count": null,
   "metadata": {},
   "outputs": [],
   "source": [
    "# Cell 3: Preprocess the image and make a prediction\n",
    "from tensorflow.keras.models import load_model\n",
    "from tensorflow.keras.preprocessing import image\n",
    "import numpy as np\n",
    "from PIL import Image\n",
    "import io\n",
    "\n",
    "def predict_tumor(uploaded_file):\n",
    "    # Load the model\n",
    "    model = load_model('brain_tumor_model.h5')\n",
    "    \n",
    "    # Get the uploaded file content\n",
    "    file_content = uploader.value[0]['content']\n",
    "    \n",
    "    # Open the image\n",
    "    img = Image.open(io.BytesIO(file_content))\n",
    "    \n",
    "    # Preprocess the image\n",
    "    img = img.resize((224, 224))\n",
    "    img_array = image.img_to_array(img)\n",
    "    img_array = np.expand_dims(img_array, axis=0)\n",
    "    from tensorflow.keras.applications.vgg16 import preprocess_input\n",
    "    img_array = preprocess_input(img_array)\n",
    "    \n",
    "    # Make prediction\n",
    "    prediction = model.predict(img_array)\n",
    "    \n",
    "    # Return the prediction\n",
    "    return prediction"
   ]
  },
  {
   "cell_type": "code",
   "execution_count": null,
   "metadata": {},
   "outputs": [],
   "source": [
    "# Cell 4: Display the prediction\n",
    "def display_prediction(prediction):\n",
    "    class_labels = ['Glioma Tumor', 'Meningioma Tumor', 'No Tumor', 'Pituitary Tumor']\n",
    "    predicted_class_idx = np.argmax(prediction)\n",
    "    confidence = np.max(prediction) * 100\n",
    "    predicted_class = class_labels[predicted_class_idx]\n",
    "    \n",
    "    print(f\"**Predicted Tumor Type:** {predicted_class}\")\n",
    "    print(f\"**Confidence Score:** {confidence:.2f}%\")\n",
    "\n",
    "# Call the prediction and display functions when a file is uploaded\n",
    "def on_upload_change(change):\n",
    "    if uploader.value:\n",
    "        prediction = predict_tumor(uploader.value)\n",
    "        display_prediction(prediction)\n",
    "\n",
    "uploader.observe(on_upload_change, names='value')\n"
   ]
  }
 ],
 "metadata": {},
 "nbformat": 4,
 "nbformat_minor": 5
}
